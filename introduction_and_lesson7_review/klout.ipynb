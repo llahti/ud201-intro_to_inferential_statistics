{
 "cells": [
  {
   "cell_type": "code",
   "execution_count": null,
   "metadata": {
    "collapsed": true
   },
   "outputs": [],
   "source": [
    "%matplotlib inline\n",
    "import numpy as np\n",
    "import pandas as pd\n",
    "import csv\n",
    "import matplotlib.pylab as plt"
   ]
  },
  {
   "cell_type": "code",
   "execution_count": null,
   "metadata": {},
   "outputs": [],
   "source": [
    "def np_read_csv(filename):\n",
    "    \"\"\"Returns numpy array\"\"\"\n",
    "    with open(filename, 'rt') as f:\n",
    "        reader = csv.reader(f)\n",
    "        y = []\n",
    "        # convert text to float\n",
    "        for x in list(reader):\n",
    "            y.append(float(x[0]))  # take first column of row\n",
    "        return np.array(y)\n",
    "\n",
    "klout_data_filename = \"./dataset/Klout scores (Lesson 7) - Sheet1.csv\"\n",
    "#np_klout_data = np_read_csv(klout_data_filename)\n",
    "pd_klout_data = pd.Series(np_read_csv(klout_data_filename))"
   ]
  },
  {
   "cell_type": "heading",
   "metadata": {},
   "level": 2,
   "source": [
    "## Statiscics of dataset"
   ]
  },
  {
   "cell_type": "code",
   "execution_count": 14,
   "metadata": {},
   "outputs": [
    {
     "name": "stdout",
     "output_type": "stream",
     "text": [
      "count    1048.000000\nmean       37.719055\nstd        16.044315\nmin        10.000000\n25%        23.174620\n50%        41.094683\n75%        50.284432\nmax        87.247529\ndtype: float64\n"
     ]
    }
   ],
   "source": [
    "print(pd_klout_data.describe())"
   ]
  },
  {
   "cell_type": "code",
   "execution_count": null,
   "metadata": {},
   "outputs": [],
   "source": [
    "Random sampling"
   ]
  },
  {
   "cell_type": "code",
   "execution_count": 18,
   "metadata": {},
   "outputs": [
    {
     "data": {
      "text/plain": [
       "38.680677463428573"
      ]
     },
     "execution_count": 18,
     "metadata": {},
     "output_type": "execute_result"
    }
   ],
   "source": [
    "sample = np.random.choice(pd_klout_data, 35)\n",
    "sample.mean()"
   ]
  },
  {
   "cell_type": "markdown",
   "metadata": {},
   "source": [
    ""
   ]
  },
  {
   "cell_type": "code",
   "execution_count": 30,
   "metadata": {},
   "outputs": [
    {
     "name": "stdout",
     "output_type": "stream",
     "text": [
      "Random sample n1: 60.62530931\n5 random samples mean: 36.852258365999994\n10 random samples mean: 42.864644772999995\n"
     ]
    }
   ],
   "source": [
    "#Quiz_something fun\n",
    "\n",
    "sample_n1 = np.random.choice(pd_klout_data, 1)\n",
    "sample_n5 = np.random.choice(pd_klout_data, 5)\n",
    "sample_n10 = np.random.choice(pd_klout_data, 10)\n",
    "\n",
    "print(\"Random sample n1: {}\\n\".format(sample_n1[0]) +\n",
    "      \"5 random samples mean: {}\\n\".format(sample_n5.mean()) +\n",
    "      \"10 random samples mean: {}\".format(sample_n10.mean())\n",
    "      )"
   ]
  },
  {
   "cell_type": "code",
   "execution_count": 46,
   "metadata": {},
   "outputs": [
    {
     "data": {
      "text/plain": [
       "<matplotlib.axes._subplots.AxesSubplot at 0x7f46a2ca79e8>"
      ]
     },
     "execution_count": 46,
     "metadata": {},
     "output_type": "execute_result"
    },
    {
     "data": {
      "image/png": "[encoded data removed]",
      "text/plain": [
       "<matplotlib.figure.Figure at 0x7f46a2d45c18>"
      ]
     },
     "metadata": {},
     "output_type": "display_data"
    }
   ],
   "source": [
    "# Creating a sampling distribution\n",
    "\n",
    "sample_size = 15  # defines individual sample size\n",
    "number_of_samples = 250  # defines how many times sample is taken\n",
    "sample_means = []\n",
    "for x in range(number_of_samples):\n",
    "    mean = np.random.choice(pd_klout_data, sample_size).mean()\n",
    "    sample_means.append(mean)\n",
    "    \n",
    "pd.Series(sample_means).hist(bins=20)"
   ]
  },
  {
   "cell_type": "markdown",
   "metadata": {},
   "source": [
    ""
   ]
  }
 ],
 "metadata": {
  "kernelspec": {
   "display_name": "Python 2",
   "language": "python",
   "name": "python2"
  },
  "language_info": {
   "codemirror_mode": {
    "name": "ipython",
    "version": 2.0
   },
   "file_extension": ".py",
   "mimetype": "text/x-python",
   "name": "python",
   "nbconvert_exporter": "python",
   "pygments_lexer": "ipython2",
   "version": "2.7.6"
  }
 },
 "nbformat": 4,
 "nbformat_minor": 0
}